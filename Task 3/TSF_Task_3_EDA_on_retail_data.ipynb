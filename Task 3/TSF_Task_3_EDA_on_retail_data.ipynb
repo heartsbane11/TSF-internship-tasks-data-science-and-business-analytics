{
  "nbformat": 4,
  "nbformat_minor": 0,
  "metadata": {
    "colab": {
      "name": "TSF Task 3 EDA on retail data.ipynb",
      "provenance": [],
      "collapsed_sections": []
    },
    "kernelspec": {
      "display_name": "Python 3",
      "name": "python3"
    }
  },
  "cells": [
    {
      "cell_type": "markdown",
      "metadata": {
        "id": "TO5-rzBi0bgt"
      },
      "source": [
        "### Author : Neeraj Thosar\r\n",
        "### TSF task 3"
      ]
    },
    {
      "cell_type": "markdown",
      "metadata": {
        "id": "IqpkUZbds1KL"
      },
      "source": [
        "## Processing of data"
      ]
    },
    {
      "cell_type": "code",
      "metadata": {
        "colab": {
          "base_uri": "https://localhost:8080/",
          "height": 221
        },
        "id": "fO9mj3WHi5uh",
        "outputId": "31b31fde-6fd0-4bac-f540-6ced05197ad9"
      },
      "source": [
        "import matplotlib.pyplot as plt\r\n",
        "import pandas as pd\r\n",
        "\r\n",
        "from google.colab import drive\r\n",
        "drive.mount('/content/gdrive')\r\n",
        "\r\n",
        "with open(\"/content/gdrive/MyDrive/TSF tasks/datasets/SampleSuperstore.csv\",\"r+\") as file:\r\n",
        "    df = pd.read_csv(file)\r\n",
        "\r\n",
        "df.head()"
      ],
      "execution_count": null,
      "outputs": [
        {
          "output_type": "stream",
          "text": [
            "Drive already mounted at /content/gdrive; to attempt to forcibly remount, call drive.mount(\"/content/gdrive\", force_remount=True).\n"
          ],
          "name": "stdout"
        },
        {
          "output_type": "execute_result",
          "data": {
            "text/html": [
              "<div>\n",
              "<style scoped>\n",
              "    .dataframe tbody tr th:only-of-type {\n",
              "        vertical-align: middle;\n",
              "    }\n",
              "\n",
              "    .dataframe tbody tr th {\n",
              "        vertical-align: top;\n",
              "    }\n",
              "\n",
              "    .dataframe thead th {\n",
              "        text-align: right;\n",
              "    }\n",
              "</style>\n",
              "<table border=\"1\" class=\"dataframe\">\n",
              "  <thead>\n",
              "    <tr style=\"text-align: right;\">\n",
              "      <th></th>\n",
              "      <th>Ship Mode</th>\n",
              "      <th>Segment</th>\n",
              "      <th>Country</th>\n",
              "      <th>City</th>\n",
              "      <th>State</th>\n",
              "      <th>Postal Code</th>\n",
              "      <th>Region</th>\n",
              "      <th>Category</th>\n",
              "      <th>Sub-Category</th>\n",
              "      <th>Sales</th>\n",
              "      <th>Quantity</th>\n",
              "      <th>Discount</th>\n",
              "      <th>Profit</th>\n",
              "    </tr>\n",
              "  </thead>\n",
              "  <tbody>\n",
              "    <tr>\n",
              "      <th>0</th>\n",
              "      <td>Second Class</td>\n",
              "      <td>Consumer</td>\n",
              "      <td>United States</td>\n",
              "      <td>Henderson</td>\n",
              "      <td>Kentucky</td>\n",
              "      <td>42420</td>\n",
              "      <td>South</td>\n",
              "      <td>Furniture</td>\n",
              "      <td>Bookcases</td>\n",
              "      <td>261.9600</td>\n",
              "      <td>2</td>\n",
              "      <td>0.00</td>\n",
              "      <td>41.9136</td>\n",
              "    </tr>\n",
              "    <tr>\n",
              "      <th>1</th>\n",
              "      <td>Second Class</td>\n",
              "      <td>Consumer</td>\n",
              "      <td>United States</td>\n",
              "      <td>Henderson</td>\n",
              "      <td>Kentucky</td>\n",
              "      <td>42420</td>\n",
              "      <td>South</td>\n",
              "      <td>Furniture</td>\n",
              "      <td>Chairs</td>\n",
              "      <td>731.9400</td>\n",
              "      <td>3</td>\n",
              "      <td>0.00</td>\n",
              "      <td>219.5820</td>\n",
              "    </tr>\n",
              "    <tr>\n",
              "      <th>2</th>\n",
              "      <td>Second Class</td>\n",
              "      <td>Corporate</td>\n",
              "      <td>United States</td>\n",
              "      <td>Los Angeles</td>\n",
              "      <td>California</td>\n",
              "      <td>90036</td>\n",
              "      <td>West</td>\n",
              "      <td>Office Supplies</td>\n",
              "      <td>Labels</td>\n",
              "      <td>14.6200</td>\n",
              "      <td>2</td>\n",
              "      <td>0.00</td>\n",
              "      <td>6.8714</td>\n",
              "    </tr>\n",
              "    <tr>\n",
              "      <th>3</th>\n",
              "      <td>Standard Class</td>\n",
              "      <td>Consumer</td>\n",
              "      <td>United States</td>\n",
              "      <td>Fort Lauderdale</td>\n",
              "      <td>Florida</td>\n",
              "      <td>33311</td>\n",
              "      <td>South</td>\n",
              "      <td>Furniture</td>\n",
              "      <td>Tables</td>\n",
              "      <td>957.5775</td>\n",
              "      <td>5</td>\n",
              "      <td>0.45</td>\n",
              "      <td>-383.0310</td>\n",
              "    </tr>\n",
              "    <tr>\n",
              "      <th>4</th>\n",
              "      <td>Standard Class</td>\n",
              "      <td>Consumer</td>\n",
              "      <td>United States</td>\n",
              "      <td>Fort Lauderdale</td>\n",
              "      <td>Florida</td>\n",
              "      <td>33311</td>\n",
              "      <td>South</td>\n",
              "      <td>Office Supplies</td>\n",
              "      <td>Storage</td>\n",
              "      <td>22.3680</td>\n",
              "      <td>2</td>\n",
              "      <td>0.20</td>\n",
              "      <td>2.5164</td>\n",
              "    </tr>\n",
              "  </tbody>\n",
              "</table>\n",
              "</div>"
            ],
            "text/plain": [
              "        Ship Mode    Segment        Country  ... Quantity Discount    Profit\n",
              "0    Second Class   Consumer  United States  ...        2     0.00   41.9136\n",
              "1    Second Class   Consumer  United States  ...        3     0.00  219.5820\n",
              "2    Second Class  Corporate  United States  ...        2     0.00    6.8714\n",
              "3  Standard Class   Consumer  United States  ...        5     0.45 -383.0310\n",
              "4  Standard Class   Consumer  United States  ...        2     0.20    2.5164\n",
              "\n",
              "[5 rows x 13 columns]"
            ]
          },
          "metadata": {
            "tags": []
          },
          "execution_count": 1
        }
      ]
    },
    {
      "cell_type": "code",
      "metadata": {
        "colab": {
          "base_uri": "https://localhost:8080/",
          "height": 297
        },
        "id": "rEGkl9tVj-_2",
        "outputId": "bee51642-2489-48bc-b357-ea88a7d467b9"
      },
      "source": [
        "df.describe()"
      ],
      "execution_count": null,
      "outputs": [
        {
          "output_type": "execute_result",
          "data": {
            "text/html": [
              "<div>\n",
              "<style scoped>\n",
              "    .dataframe tbody tr th:only-of-type {\n",
              "        vertical-align: middle;\n",
              "    }\n",
              "\n",
              "    .dataframe tbody tr th {\n",
              "        vertical-align: top;\n",
              "    }\n",
              "\n",
              "    .dataframe thead th {\n",
              "        text-align: right;\n",
              "    }\n",
              "</style>\n",
              "<table border=\"1\" class=\"dataframe\">\n",
              "  <thead>\n",
              "    <tr style=\"text-align: right;\">\n",
              "      <th></th>\n",
              "      <th>Postal Code</th>\n",
              "      <th>Sales</th>\n",
              "      <th>Quantity</th>\n",
              "      <th>Discount</th>\n",
              "      <th>Profit</th>\n",
              "    </tr>\n",
              "  </thead>\n",
              "  <tbody>\n",
              "    <tr>\n",
              "      <th>count</th>\n",
              "      <td>9994.000000</td>\n",
              "      <td>9994.000000</td>\n",
              "      <td>9994.000000</td>\n",
              "      <td>9994.000000</td>\n",
              "      <td>9994.000000</td>\n",
              "    </tr>\n",
              "    <tr>\n",
              "      <th>mean</th>\n",
              "      <td>55190.379428</td>\n",
              "      <td>229.858001</td>\n",
              "      <td>3.789574</td>\n",
              "      <td>0.156203</td>\n",
              "      <td>28.656896</td>\n",
              "    </tr>\n",
              "    <tr>\n",
              "      <th>std</th>\n",
              "      <td>32063.693350</td>\n",
              "      <td>623.245101</td>\n",
              "      <td>2.225110</td>\n",
              "      <td>0.206452</td>\n",
              "      <td>234.260108</td>\n",
              "    </tr>\n",
              "    <tr>\n",
              "      <th>min</th>\n",
              "      <td>1040.000000</td>\n",
              "      <td>0.444000</td>\n",
              "      <td>1.000000</td>\n",
              "      <td>0.000000</td>\n",
              "      <td>-6599.978000</td>\n",
              "    </tr>\n",
              "    <tr>\n",
              "      <th>25%</th>\n",
              "      <td>23223.000000</td>\n",
              "      <td>17.280000</td>\n",
              "      <td>2.000000</td>\n",
              "      <td>0.000000</td>\n",
              "      <td>1.728750</td>\n",
              "    </tr>\n",
              "    <tr>\n",
              "      <th>50%</th>\n",
              "      <td>56430.500000</td>\n",
              "      <td>54.490000</td>\n",
              "      <td>3.000000</td>\n",
              "      <td>0.200000</td>\n",
              "      <td>8.666500</td>\n",
              "    </tr>\n",
              "    <tr>\n",
              "      <th>75%</th>\n",
              "      <td>90008.000000</td>\n",
              "      <td>209.940000</td>\n",
              "      <td>5.000000</td>\n",
              "      <td>0.200000</td>\n",
              "      <td>29.364000</td>\n",
              "    </tr>\n",
              "    <tr>\n",
              "      <th>max</th>\n",
              "      <td>99301.000000</td>\n",
              "      <td>22638.480000</td>\n",
              "      <td>14.000000</td>\n",
              "      <td>0.800000</td>\n",
              "      <td>8399.976000</td>\n",
              "    </tr>\n",
              "  </tbody>\n",
              "</table>\n",
              "</div>"
            ],
            "text/plain": [
              "        Postal Code         Sales     Quantity     Discount       Profit\n",
              "count   9994.000000   9994.000000  9994.000000  9994.000000  9994.000000\n",
              "mean   55190.379428    229.858001     3.789574     0.156203    28.656896\n",
              "std    32063.693350    623.245101     2.225110     0.206452   234.260108\n",
              "min     1040.000000      0.444000     1.000000     0.000000 -6599.978000\n",
              "25%    23223.000000     17.280000     2.000000     0.000000     1.728750\n",
              "50%    56430.500000     54.490000     3.000000     0.200000     8.666500\n",
              "75%    90008.000000    209.940000     5.000000     0.200000    29.364000\n",
              "max    99301.000000  22638.480000    14.000000     0.800000  8399.976000"
            ]
          },
          "metadata": {
            "tags": []
          },
          "execution_count": 2
        }
      ]
    },
    {
      "cell_type": "code",
      "metadata": {
        "colab": {
          "base_uri": "https://localhost:8080/",
          "height": 502
        },
        "id": "_YIuqo64s6b5",
        "outputId": "428930aa-011f-4f13-a169-0798fe7c9111"
      },
      "source": [
        "import seaborn as sns\r\n",
        "import numpy as np\r\n",
        "df = df.drop(['Country', 'Postal Code'], axis =1)\r\n",
        "df_num = df.select_dtypes(include = [np.number])\r\n",
        "plt.figure(figsize = [12, 8])\r\n",
        "sns.set(style = 'whitegrid')\r\n",
        "sns.boxplot(x = 'variable', y = 'value', data = pd.melt(df_num), width = 1)\r\n",
        "plt.show()"
      ],
      "execution_count": null,
      "outputs": [
        {
          "output_type": "display_data",
          "data": {
            "image/png": "[encoded data removed]",
            "text/plain": [
              "<Figure size 864x576 with 1 Axes>"
            ]
          },
          "metadata": {
            "tags": [],
            "needs_background": "light"
          }
        }
      ]
    },
    {
      "cell_type": "markdown",
      "metadata": {
        "id": "JyprsrMbtxbS"
      },
      "source": [
        "#### From the above plot, the outliers in Sale and Profit are clearly visible. As it is a large dataset, we can remove those rows containing outliers in order to improve our results.\r\n",
        "\r\n"
      ]
    },
    {
      "cell_type": "code",
      "metadata": {
        "colab": {
          "base_uri": "https://localhost:8080/",
          "height": 502
        },
        "id": "wIRVbgm_t6ri",
        "outputId": "98187f48-786e-4589-c084-2d4e359613c7"
      },
      "source": [
        "def remove_outlier(dataset, k= 3.33):\r\n",
        "    for col in dataset.columns:\r\n",
        "        if (dataset[col].dtype == 'int64' or dataset[col].dtype == 'float64'):\r\n",
        "            mean = dataset[col].mean()\r\n",
        "            global ds\r\n",
        "            std = dataset[col].std()\r\n",
        "            outlier = [i for i in dataset[col] if (i > mean - k * std)]\r\n",
        "            outlier = [i for i in outlier if (i < mean + k * std)]\r\n",
        "            ds = dataset.loc[dataset[col].isin(outlier)]\r\n",
        "\r\n",
        "remove_outlier(df, k = 3.33)\r\n",
        "ds_num = ds.select_dtypes(include = [np.number])\r\n",
        "plt.figure(figsize = [12, 8])\r\n",
        "sns.set(style = 'whitegrid')\r\n",
        "sns.boxplot(x = 'variable', y = 'value', data = pd.melt(ds_num), width = 1)\r\n",
        "plt.show()"
      ],
      "execution_count": null,
      "outputs": [
        {
          "output_type": "display_data",
          "data": {
            "image/png": "[encoded data removed]",
            "text/plain": [
              "<Figure size 864x576 with 1 Axes>"
            ]
          },
          "metadata": {
            "tags": []
          }
        }
      ]
    },
    {
      "cell_type": "markdown",
      "metadata": {
        "id": "rBut83GBuH7y"
      },
      "source": [
        "#### From the above BoxPlot, it is visible that most of the outliers are removed and thus we will use this dataset for EDA."
      ]
    },
    {
      "cell_type": "markdown",
      "metadata": {
        "id": "zupPY7f3sr5E"
      },
      "source": [
        "## Exploratory Data analysis "
      ]
    },
    {
      "cell_type": "code",
      "metadata": {
        "colab": {
          "base_uri": "https://localhost:8080/",
          "height": 268
        },
        "id": "uMGIpsBsi-xF",
        "outputId": "65e19e30-0d67-4e1f-f651-ab6be9203cbc"
      },
      "source": [
        "profitsofclasses=[]\r\n",
        "for i in [\"First Class\", \"Second Class\",  \"Standard Class\"]:\r\n",
        "  profitsofclasses.append(sum(df[df[\"Ship Mode\"] == i][\"Profit\"]))\r\n",
        "\r\n",
        "plt.bar([\"First Class\", \"Second Class\",  \"Standard Class\"], profitsofclasses)\r\n",
        "plt.show()"
      ],
      "execution_count": null,
      "outputs": [
        {
          "output_type": "display_data",
          "data": {
            "image/png": "[encoded data removed]",
            "text/plain": [
              "<Figure size 432x288 with 1 Axes>"
            ]
          },
          "metadata": {
            "tags": []
          }
        }
      ]
    },
    {
      "cell_type": "markdown",
      "metadata": {
        "id": "gYxNz4_knjLN"
      },
      "source": [
        "### This shows that highest profits of the company is from the Standard Class shipment."
      ]
    },
    {
      "cell_type": "code",
      "metadata": {
        "id": "fes2v-8woxTX",
        "colab": {
          "base_uri": "https://localhost:8080/",
          "height": 343
        },
        "outputId": "56294ba3-d3b2-4691-c6dc-7502eaa75291"
      },
      "source": [
        "df1 = df.drop(columns = [\"Ship Mode\" ,\"City\", \"State\",\"Region\", \"Category\",\"Sub-Category\"])\r\n",
        "import seaborn as sns\r\n",
        "import matplotlib.pyplot as plt\r\n",
        "corr = df1.corr()\r\n",
        "fig,ax = plt.subplots(figsize = (5,5))\r\n",
        "sns.heatmap(corr, annot = True, ax=ax)"
      ],
      "execution_count": null,
      "outputs": [
        {
          "output_type": "execute_result",
          "data": {
            "text/plain": [
              "<matplotlib.axes._subplots.AxesSubplot at 0x7faa6ac27d90>"
            ]
          },
          "metadata": {
            "tags": []
          },
          "execution_count": 6
        },
        {
          "output_type": "display_data",
          "data": {
            "image/png": "[encoded data removed]",
            "text/plain": [
              "<Figure size 360x360 with 2 Axes>"
            ]
          },
          "metadata": {
            "tags": []
          }
        }
      ]
    },
    {
      "cell_type": "markdown",
      "metadata": {
        "id": "4FphpmlFHMcI"
      },
      "source": [
        "#### This Matrix shows that there is no Correlation between any variables i.e., We can infer that profits and sales don't increase with increase in discount."
      ]
    },
    {
      "cell_type": "code",
      "metadata": {
        "colab": {
          "base_uri": "https://localhost:8080/",
          "height": 431
        },
        "id": "5g9ZYYSuJ29H",
        "outputId": "067eb600-b6ff-41be-9c28-1776926eba84"
      },
      "source": [
        "profitsofregions = []\r\n",
        "for i in list(df.Region.unique()):\r\n",
        "  profitsofregions.append((i , sum(df[df[\"Region\"] == i][\"Profit\"])))\r\n",
        "\r\n",
        "profitsofregions.sort( key = lambda x: x[1])\r\n",
        "x=[]\r\n",
        "y=[]\r\n",
        "for i in profitsofregions[:11]:\r\n",
        "  x.append(i[0])\r\n",
        "  y.append(i[1])\r\n",
        "plt.figure(figsize = (10,7))\r\n",
        "plt.bar(x,y, width= 0.5)\r\n",
        "plt.show()"
      ],
      "execution_count": null,
      "outputs": [
        {
          "output_type": "display_data",
          "data": {
            "image/png": "[encoded data removed]",
            "text/plain": [
              "<Figure size 720x504 with 1 Axes>"
            ]
          },
          "metadata": {
            "tags": []
          }
        }
      ]
    },
    {
      "cell_type": "markdown",
      "metadata": {
        "id": "jwBtH45ZO3hj"
      },
      "source": [
        "#### The East and West region has satisfactory profits. The Central and South region has the lowest profits. And therefore Central and South region needs somw work to be done to increase the profits. "
      ]
    },
    {
      "cell_type": "code",
      "metadata": {
        "colab": {
          "base_uri": "https://localhost:8080/",
          "height": 858
        },
        "id": "M8dwBs_UPLYj",
        "outputId": "c62e66c1-66c7-4b11-b971-a3f81aecda24"
      },
      "source": [
        "#df.Category.unique()\r\n",
        "fur = sum(df[df[\"Region\"] == \"West\"][df[\"Category\"] == \"Furniture\"][\"Sales\"])\r\n",
        "off = sum(df[df[\"Region\"] == \"West\"][df[\"Category\"] == \"Office Supplies\"][\"Sales\"])\r\n",
        "tech = sum(df[df[\"Region\"] == \"West\"][df[\"Category\"] == \"Technology\"][\"Sales\"])\r\n",
        "labels=[\"Furniture\", \"Office Supplies\", \"Technology\"]\r\n",
        "x = np.arange(len(labels))\r\n",
        "y1=[fur, off, tech]\r\n",
        "\r\n",
        "fur = sum(df[df[\"Region\"] == \"Central\"][df[\"Category\"] == \"Furniture\"][\"Sales\"])\r\n",
        "off = sum(df[df[\"Region\"] == \"Central\"][df[\"Category\"] == \"Office Supplies\"][\"Sales\"])\r\n",
        "tech = sum(df[df[\"Region\"] == \"Central\"][df[\"Category\"] == \"Technology\"][\"Sales\"])\r\n",
        "y2=[fur, off, tech]\r\n",
        "\r\n",
        "fur = sum(df[df[\"Region\"] == \"South\"][df[\"Category\"] == \"Furniture\"][\"Sales\"])\r\n",
        "off = sum(df[df[\"Region\"] == \"South\"][df[\"Category\"] == \"Office Supplies\"][\"Sales\"])\r\n",
        "tech = sum(df[df[\"Region\"] == \"South\"][df[\"Category\"] == \"Technology\"][\"Sales\"])\r\n",
        "y3=[fur, off, tech]\r\n",
        "fur = sum(df[df[\"Region\"] == \"East\"][df[\"Category\"] == \"Furniture\"][\"Sales\"])\r\n",
        "off = sum(df[df[\"Region\"] == \"East\"][df[\"Category\"] == \"Office Supplies\"][\"Sales\"])\r\n",
        "tech = sum(df[df[\"Region\"] == \"East\"][df[\"Category\"] == \"Technology\"][\"Sales\"])\r\n",
        "y4=[fur, off, tech]\r\n",
        "\r\n",
        "plt.figure(figsize=(10, 8))\r\n",
        "ax = plt.subplot(111)\r\n",
        "\r\n",
        "bar1 = ax.bar(x- 0.2, y1, width=0.2, color='c', align='center', label = \"West region\")\r\n",
        "bar2 = ax.bar(x, y2, width=0.2, color='tab:pink', align='center', label = \"Central region\")\r\n",
        "bar3 = ax.bar(x+ 0.2, y3, width=0.2, color='y', align='center', label = \"South region\")\r\n",
        "bar4 = ax.bar(x+ 0.4, y4, width=0.2, color='r', align='center', label = \"East region\")\r\n",
        "\r\n",
        "# Add some text for labels, title and custom x-axis tick labels, etc.\r\n",
        "ax.set_ylabel('Profits')\r\n",
        "ax.set_title('Profits by region and Category of supplies')\r\n",
        "ax.set_xticks(x)\r\n",
        "ax.set_xticklabels(labels)\r\n",
        "ax.legend()\r\n",
        "\r\n",
        "def autolabel(rects):\r\n",
        "    \"\"\"Attach a text label above each bar in *rects*, displaying its height.\"\"\"\r\n",
        "    for rect in rects:\r\n",
        "        height = rect.get_height()\r\n",
        "        ax.annotate('{}'.format(height),\r\n",
        "                    xy=(rect.get_x() + rect.get_width() / 2, height),\r\n",
        "                    xytext=(0, 3),  # 3 points vertical offset\r\n",
        "                    textcoords=\"offset points\",\r\n",
        "                    ha='center', va='bottom')\r\n",
        "\r\n",
        "\r\n",
        "autolabel(bar1)\r\n",
        "autolabel(bar2)\r\n",
        "autolabel(bar3)\r\n",
        "autolabel(bar4)\r\n",
        "fig.tight_layout()\r\n",
        "\r\n",
        "plt.show()\r\n",
        "plt.show()"
      ],
      "execution_count": null,
      "outputs": [
        {
          "output_type": "stream",
          "text": [
            "/usr/local/lib/python3.7/dist-packages/ipykernel_launcher.py:2: UserWarning: Boolean Series key will be reindexed to match DataFrame index.\n",
            "  \n",
            "/usr/local/lib/python3.7/dist-packages/ipykernel_launcher.py:3: UserWarning: Boolean Series key will be reindexed to match DataFrame index.\n",
            "  This is separate from the ipykernel package so we can avoid doing imports until\n",
            "/usr/local/lib/python3.7/dist-packages/ipykernel_launcher.py:4: UserWarning: Boolean Series key will be reindexed to match DataFrame index.\n",
            "  after removing the cwd from sys.path.\n",
            "/usr/local/lib/python3.7/dist-packages/ipykernel_launcher.py:9: UserWarning: Boolean Series key will be reindexed to match DataFrame index.\n",
            "  if __name__ == '__main__':\n",
            "/usr/local/lib/python3.7/dist-packages/ipykernel_launcher.py:10: UserWarning: Boolean Series key will be reindexed to match DataFrame index.\n",
            "  # Remove the CWD from sys.path while we load stuff.\n",
            "/usr/local/lib/python3.7/dist-packages/ipykernel_launcher.py:11: UserWarning: Boolean Series key will be reindexed to match DataFrame index.\n",
            "  # This is added back by InteractiveShellApp.init_path()\n",
            "/usr/local/lib/python3.7/dist-packages/ipykernel_launcher.py:14: UserWarning: Boolean Series key will be reindexed to match DataFrame index.\n",
            "  \n",
            "/usr/local/lib/python3.7/dist-packages/ipykernel_launcher.py:15: UserWarning: Boolean Series key will be reindexed to match DataFrame index.\n",
            "  from ipykernel import kernelapp as app\n",
            "/usr/local/lib/python3.7/dist-packages/ipykernel_launcher.py:16: UserWarning: Boolean Series key will be reindexed to match DataFrame index.\n",
            "  app.launch_new_instance()\n",
            "/usr/local/lib/python3.7/dist-packages/ipykernel_launcher.py:18: UserWarning: Boolean Series key will be reindexed to match DataFrame index.\n",
            "/usr/local/lib/python3.7/dist-packages/ipykernel_launcher.py:19: UserWarning: Boolean Series key will be reindexed to match DataFrame index.\n",
            "/usr/local/lib/python3.7/dist-packages/ipykernel_launcher.py:20: UserWarning: Boolean Series key will be reindexed to match DataFrame index.\n"
          ],
          "name": "stderr"
        },
        {
          "output_type": "display_data",
          "data": {
            "image/png": "[encoded data removed]",
            "text/plain": [
              "<Figure size 720x576 with 1 Axes>"
            ]
          },
          "metadata": {
            "tags": []
          }
        }
      ]
    },
    {
      "cell_type": "markdown",
      "metadata": {
        "id": "eRXKh5OloS6v"
      },
      "source": [
        "#### In each region office supplies has less supplies as compared to others."
      ]
    },
    {
      "cell_type": "code",
      "metadata": {
        "colab": {
          "base_uri": "https://localhost:8080/",
          "height": 594
        },
        "id": "B7W9q2FTnpxI",
        "outputId": "ef082689-4cc7-4b7d-afa1-6e6e4cb6ac17"
      },
      "source": [
        "states= list(df.State.unique())\r\n",
        "profitsofstates = []\r\n",
        "for i in states:\r\n",
        "  profitsofstates.append((i , sum(df[df[\"State\"] == i][\"Profit\"])))\r\n",
        "\r\n",
        "profitsofstates.sort( key = lambda x: x[1])\r\n",
        "x=[]\r\n",
        "y=[]\r\n",
        "for i in profitsofstates[:11]:\r\n",
        "  x.append(i[0])\r\n",
        "  y.append(i[1])\r\n",
        "plt.figure(figsize = (15,10))\r\n",
        "plt.bar(x,y,width=0.2)\r\n",
        "plt.show()\r\n"
      ],
      "execution_count": null,
      "outputs": [
        {
          "output_type": "display_data",
          "data": {
            "image/png": "[encoded data removed]",
            "text/plain": [
              "<Figure size 1080x720 with 1 Axes>"
            ]
          },
          "metadata": {
            "tags": []
          }
        }
      ]
    },
    {
      "cell_type": "markdown",
      "metadata": {
        "id": "-XOlNa84uh-_"
      },
      "source": [
        "#### the above graph is of the States of lowest profits in which improvement is needed."
      ]
    },
    {
      "cell_type": "code",
      "metadata": {
        "colab": {
          "base_uri": "https://localhost:8080/",
          "height": 204
        },
        "id": "E_r8iB8guqlA",
        "outputId": "b8dd46b9-4635-4e63-92a2-a68131d0762f"
      },
      "source": [
        "groups = ds.groupby('City')\r\n",
        "total_profits = groups['Profit'].agg(np.sum).sort_values(ascending = False).reset_index()\r\n",
        "total_profits.head()"
      ],
      "execution_count": null,
      "outputs": [
        {
          "output_type": "execute_result",
          "data": {
            "text/html": [
              "<div>\n",
              "<style scoped>\n",
              "    .dataframe tbody tr th:only-of-type {\n",
              "        vertical-align: middle;\n",
              "    }\n",
              "\n",
              "    .dataframe tbody tr th {\n",
              "        vertical-align: top;\n",
              "    }\n",
              "\n",
              "    .dataframe thead th {\n",
              "        text-align: right;\n",
              "    }\n",
              "</style>\n",
              "<table border=\"1\" class=\"dataframe\">\n",
              "  <thead>\n",
              "    <tr style=\"text-align: right;\">\n",
              "      <th></th>\n",
              "      <th>City</th>\n",
              "      <th>Profit</th>\n",
              "    </tr>\n",
              "  </thead>\n",
              "  <tbody>\n",
              "    <tr>\n",
              "      <th>0</th>\n",
              "      <td>New York City</td>\n",
              "      <td>39957.8971</td>\n",
              "    </tr>\n",
              "    <tr>\n",
              "      <th>1</th>\n",
              "      <td>Los Angeles</td>\n",
              "      <td>26553.7452</td>\n",
              "    </tr>\n",
              "    <tr>\n",
              "      <th>2</th>\n",
              "      <td>Seattle</td>\n",
              "      <td>18951.2609</td>\n",
              "    </tr>\n",
              "    <tr>\n",
              "      <th>3</th>\n",
              "      <td>San Francisco</td>\n",
              "      <td>16562.3989</td>\n",
              "    </tr>\n",
              "    <tr>\n",
              "      <th>4</th>\n",
              "      <td>Detroit</td>\n",
              "      <td>8235.4208</td>\n",
              "    </tr>\n",
              "  </tbody>\n",
              "</table>\n",
              "</div>"
            ],
            "text/plain": [
              "            City      Profit\n",
              "0  New York City  39957.8971\n",
              "1    Los Angeles  26553.7452\n",
              "2        Seattle  18951.2609\n",
              "3  San Francisco  16562.3989\n",
              "4        Detroit   8235.4208"
            ]
          },
          "metadata": {
            "tags": []
          },
          "execution_count": 10
        }
      ]
    },
    {
      "cell_type": "markdown",
      "metadata": {
        "id": "1ZVYETY7vxs4"
      },
      "source": [
        "#### These are the leading cities in terms of profits."
      ]
    },
    {
      "cell_type": "code",
      "metadata": {
        "colab": {
          "base_uri": "https://localhost:8080/",
          "height": 204
        },
        "id": "MnS-93Cyv30q",
        "outputId": "862bfce1-9388-4387-cb10-dbaab22fb933"
      },
      "source": [
        "total_discount = groups['Discount'].agg(np.sum).sort_values(ascending = False).reset_index()\r\n",
        "total_discount.head()"
      ],
      "execution_count": null,
      "outputs": [
        {
          "output_type": "execute_result",
          "data": {
            "text/html": [
              "<div>\n",
              "<style scoped>\n",
              "    .dataframe tbody tr th:only-of-type {\n",
              "        vertical-align: middle;\n",
              "    }\n",
              "\n",
              "    .dataframe tbody tr th {\n",
              "        vertical-align: top;\n",
              "    }\n",
              "\n",
              "    .dataframe thead th {\n",
              "        text-align: right;\n",
              "    }\n",
              "</style>\n",
              "<table border=\"1\" class=\"dataframe\">\n",
              "  <thead>\n",
              "    <tr style=\"text-align: right;\">\n",
              "      <th></th>\n",
              "      <th>City</th>\n",
              "      <th>Discount</th>\n",
              "    </tr>\n",
              "  </thead>\n",
              "  <tbody>\n",
              "    <tr>\n",
              "      <th>0</th>\n",
              "      <td>Philadelphia</td>\n",
              "      <td>173.70</td>\n",
              "    </tr>\n",
              "    <tr>\n",
              "      <th>1</th>\n",
              "      <td>Houston</td>\n",
              "      <td>139.94</td>\n",
              "    </tr>\n",
              "    <tr>\n",
              "      <th>2</th>\n",
              "      <td>Chicago</td>\n",
              "      <td>118.70</td>\n",
              "    </tr>\n",
              "    <tr>\n",
              "      <th>3</th>\n",
              "      <td>Dallas</td>\n",
              "      <td>55.50</td>\n",
              "    </tr>\n",
              "    <tr>\n",
              "      <th>4</th>\n",
              "      <td>Los Angeles</td>\n",
              "      <td>54.70</td>\n",
              "    </tr>\n",
              "  </tbody>\n",
              "</table>\n",
              "</div>"
            ],
            "text/plain": [
              "           City  Discount\n",
              "0  Philadelphia    173.70\n",
              "1       Houston    139.94\n",
              "2       Chicago    118.70\n",
              "3        Dallas     55.50\n",
              "4   Los Angeles     54.70"
            ]
          },
          "metadata": {
            "tags": []
          },
          "execution_count": 11
        }
      ]
    },
    {
      "cell_type": "markdown",
      "metadata": {
        "id": "TH0Q8t1-wXdh"
      },
      "source": [
        "#### The above cities has the highest of discounts and yet their profits are not among the highest. Thus we can reduce the discounts in these cities."
      ]
    }
  ]
}