{
  "nbformat": 4,
  "nbformat_minor": 0,
  "metadata": {
    "colab": {
      "name": "TSF task 1 supervised learning.ipynb",
      "provenance": [],
      "collapsed_sections": []
    },
    "kernelspec": {
      "name": "python3",
      "display_name": "Python 3"
    }
  },
  "cells": [
    {
      "cell_type": "code",
      "metadata": {
        "colab": {
          "base_uri": "https://localhost:8080/"
        },
        "id": "7VIF1mBKxDSQ",
        "outputId": "5b86309b-9a65-4097-9d5a-1379ee66174d"
      },
      "source": [
        "!pip install sealion"
      ],
      "execution_count": 1,
      "outputs": [
        {
          "output_type": "stream",
          "text": [
            "Requirement already satisfied: sealion in /usr/local/lib/python3.7/dist-packages (4.2.4)\n",
            "Requirement already satisfied: tqdm in /usr/local/lib/python3.7/dist-packages (from sealion) (4.41.1)\n",
            "Requirement already satisfied: seaborn in /usr/local/lib/python3.7/dist-packages (from sealion) (0.11.1)\n",
            "Requirement already satisfied: six in /usr/local/lib/python3.7/dist-packages (from sealion) (1.15.0)\n",
            "Requirement already satisfied: multiprocess in /usr/local/lib/python3.7/dist-packages (from sealion) (0.70.11.1)\n",
            "Requirement already satisfied: kiwisolver in /usr/local/lib/python3.7/dist-packages (from sealion) (1.3.1)\n",
            "Requirement already satisfied: joblib in /usr/local/lib/python3.7/dist-packages (from sealion) (1.0.1)\n",
            "Requirement already satisfied: scipy in /usr/local/lib/python3.7/dist-packages (from sealion) (1.4.1)\n",
            "Requirement already satisfied: Cython in /usr/local/lib/python3.7/dist-packages (from sealion) (0.29.22)\n",
            "Requirement already satisfied: matplotlib in /usr/local/lib/python3.7/dist-packages (from sealion) (3.2.2)\n",
            "Requirement already satisfied: cycler in /usr/local/lib/python3.7/dist-packages (from sealion) (0.10.0)\n",
            "Requirement already satisfied: dill in /usr/local/lib/python3.7/dist-packages (from sealion) (0.3.3)\n",
            "Requirement already satisfied: pyparsing in /usr/local/lib/python3.7/dist-packages (from sealion) (2.4.7)\n",
            "Requirement already satisfied: pandas in /usr/local/lib/python3.7/dist-packages (from sealion) (1.1.5)\n",
            "Requirement already satisfied: pillow in /usr/local/lib/python3.7/dist-packages (from sealion) (7.0.0)\n",
            "Requirement already satisfied: pytz in /usr/local/lib/python3.7/dist-packages (from sealion) (2018.9)\n",
            "Requirement already satisfied: setuptools in /usr/local/lib/python3.7/dist-packages (from sealion) (54.0.0)\n",
            "Requirement already satisfied: numpy in /usr/local/lib/python3.7/dist-packages (from sealion) (1.19.5)\n",
            "Requirement already satisfied: python-dateutil>=2.1 in /usr/local/lib/python3.7/dist-packages (from matplotlib->sealion) (2.8.1)\n"
          ],
          "name": "stdout"
        }
      ]
    },
    {
      "cell_type": "markdown",
      "metadata": {
        "id": "jlv68oeHyC5f"
      },
      "source": [
        "# TSF internship task 1 : predicting students marks \r\n",
        "\r\n"
      ]
    },
    {
      "cell_type": "markdown",
      "metadata": {
        "id": "YRP5TWWhyaSg"
      },
      "source": [
        "### Step 1: Processing the data and assigning it to proper variables"
      ]
    },
    {
      "cell_type": "code",
      "metadata": {
        "colab": {
          "base_uri": "https://localhost:8080/"
        },
        "id": "shIPjoMhyAUv",
        "outputId": "293240cb-0a93-48a6-bebc-76db1dd46f03"
      },
      "source": [
        "from google.colab import drive\r\n",
        "drive.mount('/content/gdrive')\r\n",
        "import csv \r\n",
        "\r\n",
        "xvalues = []\r\n",
        "yvalues = []\r\n",
        "with open(\"/content/gdrive/MyDrive/TSF tasks/datasets/student_scores.csv\",\"r+\") as file:\r\n",
        "    reader = csv.reader(file, delimiter = ',')\r\n",
        "    for i in reader:\r\n",
        "        xvalues.append(i[0])\r\n",
        "        yvalues.append(i[1])\r\n",
        "\r\n",
        "# making training dataframe and converting x_train to 2-D array whereas y_train is 1-D array\r\n",
        "import numpy as np\r\n",
        "print(xvalues)\r\n",
        "x_train = np.array(xvalues[1:], dtype=np.float32);\r\n",
        "x_train = x_train.reshape(-1, 1)   #converts 1-D to 2-D array\r\n",
        "\r\n",
        "y_train = np.array(yvalues[1:], dtype=np.float32);\r\n"
      ],
      "execution_count": 2,
      "outputs": [
        {
          "output_type": "stream",
          "text": [
            "Drive already mounted at /content/gdrive; to attempt to forcibly remount, call drive.mount(\"/content/gdrive\", force_remount=True).\n",
            "['Hours', '2.5', '5.1', '3.2', '8.5', '3.5', '1.5', '9.2', '5.5', '8.3', '2.7', '7.7', '5.9', '4.5', '3.3', '1.1', '8.9', '2.5', '1.9', '6.1', '7.4', '2.7', '4.8', '3.8', '6.9', '7.8']\n"
          ],
          "name": "stdout"
        }
      ]
    },
    {
      "cell_type": "markdown",
      "metadata": {
        "id": "Gnnu13Z70qs6"
      },
      "source": [
        "#### Initializing and training linear regression object. \r\n",
        "\r\n",
        "the way Linear Regression works is by using a closed-form normal equation or an iterative optimization algorithm called gradient descent. The former is usually much faster, so SeaLion uses it here. "
      ]
    },
    {
      "cell_type": "code",
      "metadata": {
        "id": "jcxiSCuwu2uW"
      },
      "source": [
        "\r\n",
        "import sealion as sl \r\n",
        "from sealion.regression import LinearRegression\r\n",
        "from sklearn.model_selection import train_test_split\r\n",
        "x_train, x_test, y_train, y_test = train_test_split(x_train, y_train, test_size = 0.2, random_state=4)\r\n",
        "\r\n",
        "lin_reg = LinearRegression()\r\n",
        "lin_reg.fit(x_train, y_train)"
      ],
      "execution_count": 3,
      "outputs": []
    },
    {
      "cell_type": "markdown",
      "metadata": {
        "id": "aRlb_-mN23Sw"
      },
      "source": [
        "#### Visualize the predictions"
      ]
    },
    {
      "cell_type": "code",
      "metadata": {
        "id": "zZHyu1rm1XDP",
        "colab": {
          "base_uri": "https://localhost:8080/",
          "height": 295
        },
        "outputId": "fd30508f-e5be-4f6e-f6c1-9427d4830bd4"
      },
      "source": [
        "#Let's try to visualize it now.\r\n",
        "y_pred = lin_reg.predict(x_test) # get the predictions\r\n",
        "lin_reg.visualize_evaluation(y_pred, y_test)\r\n",
        "\r\n",
        "# here the data number is the hour of study a student does, and the prediction (y-axis) is the marks he got/will get.  "
      ],
      "execution_count": 7,
      "outputs": [
        {
          "output_type": "display_data",
          "data": {
            "image/png": "[encoded data removed]",
            "text/plain": [
              "<Figure size 432x288 with 1 Axes>"
            ]
          },
          "metadata": {
            "tags": [],
            "needs_background": "light"
          }
        }
      ]
    },
    {
      "cell_type": "markdown",
      "metadata": {
        "id": "yfwnHjPD3a5w"
      },
      "source": [
        "#### Testing with custom data"
      ]
    },
    {
      "cell_type": "code",
      "metadata": {
        "id": "MBcBQm_G3h_N",
        "colab": {
          "base_uri": "https://localhost:8080/"
        },
        "outputId": "d1405916-ed91-4c65-acc3-01ab61f977c7"
      },
      "source": [
        "hrs = [[9.25]]\r\n",
        "predict = lin_reg.predict(hrs)\r\n",
        "print(\"No. of Hours = {}\".format(hrs))\r\n",
        "print(\"Predicted Score = {}\".format(predict[0]))"
      ],
      "execution_count": 5,
      "outputs": [
        {
          "output_type": "stream",
          "text": [
            "No. of Hours = [[9.25]]\n",
            "Predicted Score = 96.45561671257019\n"
          ],
          "name": "stdout"
        }
      ]
    },
    {
      "cell_type": "markdown",
      "metadata": {
        "id": "3gNF4m1K3z8X"
      },
      "source": [
        "#### Evaluating the model using the r^2 value.(usually from 0 - 1. More is better!)"
      ]
    },
    {
      "cell_type": "code",
      "metadata": {
        "id": "a3JmGfbj1-re",
        "colab": {
          "base_uri": "https://localhost:8080/"
        },
        "outputId": "e4017919-c158-4cba-ac60-e05ba410f42d"
      },
      "source": [
        "\r\n",
        "r_squared = lin_reg.evaluate(x_test, y_test)\r\n",
        "print(r_squared)"
      ],
      "execution_count": 6,
      "outputs": [
        {
          "output_type": "stream",
          "text": [
            "0.8235379457473755\n"
          ],
          "name": "stdout"
        }
      ]
    }
  ]
}